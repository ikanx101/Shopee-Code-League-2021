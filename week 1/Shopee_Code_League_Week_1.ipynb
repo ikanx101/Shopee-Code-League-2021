{
  "nbformat": 4,
  "nbformat_minor": 0,
  "metadata": {
    "colab": {
      "name": "Shopee Code League Week 1",
      "provenance": [],
      "collapsed_sections": [],
      "authorship_tag": "ABX9TyNOPzcb/ZEAzUuEVmsEPrhP",
      "include_colab_link": true
    },
    "kernelspec": {
      "name": "ir",
      "display_name": "R"
    }
  },
  "cells": [
    {
      "cell_type": "markdown",
      "metadata": {
        "id": "view-in-github",
        "colab_type": "text"
      },
      "source": [
        "<a href=\"https://colab.research.google.com/github/ikanx101/Shopee-Code-League-2021/blob/main/Shopee_Code_League_Week_1.ipynb\" target=\"_parent\"><img src=\"https://colab.research.google.com/assets/colab-badge.svg\" alt=\"Open In Colab\"/></a>"
      ]
    },
    {
      "cell_type": "code",
      "metadata": {
        "colab": {
          "base_uri": "https://localhost:8080/"
        },
        "id": "bBZFGt7zbkCj",
        "outputId": "1fe9f2b3-88f0-418b-983d-ae6672bd8e54"
      },
      "source": [
        "rm(list=ls())\r\n",
        "library(jsonlite)\r\n",
        "library(dplyr)\r\n",
        "library(tidyr)\r\n",
        "library(stringr)\r\n",
        "\r\n",
        "\r\n",
        "data = read_json(\"contacts.json\")\r\n",
        "n = length(data)\r\n",
        "\r\n",
        "sample_n = c(1:10,499990:500000)\r\n",
        "\r\n",
        "id = c()\r\n",
        "email = c()\r\n",
        "phone = c()\r\n",
        "contact = c()\r\n",
        "order_id = c()\r\n",
        "\r\n",
        "for(i in 1:n){\r\n",
        "  temp = data[[i]]\r\n",
        "  id[i] = temp$Id\r\n",
        "  email[i] = temp$Email\r\n",
        "  phone[i] = temp$Phone\r\n",
        "  contact[i] = temp$Contacts\r\n",
        "  order_id[i] = temp$OrderId\r\n",
        "}\r\n",
        "\r\n",
        "data_new = data.frame(id,email,phone,contact,order_id)\r\n",
        "\r\n",
        "cek = function(i){\r\n",
        "  email_find = data_new$email[i]\r\n",
        "  n_email_find = str_length(email_find)\r\n",
        "  if(n_email_find > 0){\r\n",
        "    d_1 = data_new %>% filter(email == email_find)\r\n",
        "  } else(d_1 = data.frame())\r\n",
        "  \r\n",
        "  phone_find = data_new$phone[i]\r\n",
        "  n_phone_find = str_length(phone_find)\r\n",
        "  if(n_phone_find > 0){\r\n",
        "    d_2 = data_new %>% filter(phone == phone_find)\r\n",
        "  } else(d_2 = data.frame())\r\n",
        "  \r\n",
        "  order_id_find = data_new$order_id[i]\r\n",
        "  n_order_id_find = str_length(order_id_find)\r\n",
        "  if(n_order_id_find > 0){\r\n",
        "    d_3 = data_new %>% filter(order_id == order_id_find)\r\n",
        "  } else(d_3 = data.frame())\r\n",
        "  \r\n",
        "  final = rbind(d_1,d_2)\r\n",
        "  final = rbind(final,d_3)\r\n",
        "  final$ticket_id = i-1\r\n",
        "  \r\n",
        "  final = \r\n",
        "    final %>% \r\n",
        "    distinct %>%\r\n",
        "    arrange(id) %>% \r\n",
        "    group_by(ticket_id) %>% \r\n",
        "    summarise(p1 = paste(id,collapse = \"-\"),\r\n",
        "              p2 = sum(contact)) %>% \r\n",
        "    ungroup() %>% \r\n",
        "    mutate(`ticket_trace/contact` = paste(p1,p2,sep = \",\")) %>% \r\n",
        "    select(-p1,-p2)\r\n",
        "  \r\n",
        "  return(final)\r\n",
        "}\r\n",
        "\r\n",
        "hasil_final = data.frame()\r\n",
        "\r\n",
        "for(i in sample_n){\r\n",
        "  temp_x = cek(i)\r\n",
        "  hasil_final = rbind(temp_x,hasil_final)\r\n",
        "  print(i)\r\n",
        "}\r\n",
        "\r\n",
        "saved_data = head(data,4)\r\n",
        "saved_data_new = head(data_new,4)\r\n",
        "save(saved_data,saved_data_new,hasil_final,file = \"all.rda\")"
      ],
      "execution_count": 36,
      "outputs": [
        {
          "output_type": "stream",
          "text": [
            "[1] 1\n",
            "[1] 2\n",
            "[1] 3\n",
            "[1] 4\n",
            "[1] 5\n",
            "[1] 6\n",
            "[1] 7\n",
            "[1] 8\n",
            "[1] 9\n",
            "[1] 10\n",
            "[1] 499990\n",
            "[1] 499991\n",
            "[1] 499992\n",
            "[1] 499993\n",
            "[1] 499994\n",
            "[1] 499995\n",
            "[1] 499996\n",
            "[1] 499997\n",
            "[1] 499998\n",
            "[1] 499999\n",
            "[1] 500000\n"
          ],
          "name": "stdout"
        }
      ]
    },
    {
      "cell_type": "code",
      "metadata": {
        "colab": {
          "base_uri": "https://localhost:8080/",
          "height": 748
        },
        "id": "gXHEo3w7gLc6",
        "outputId": "06c9a92f-2d0c-4e23-a1ec-a887382ce465"
      },
      "source": [
        "hasil_final"
      ],
      "execution_count": 37,
      "outputs": [
        {
          "output_type": "display_data",
          "data": {
            "text/plain": [
              "   ticket_id ticket_trace/contact  \n",
              "1  499999    499999,0              \n",
              "2  499998    121111-499998,5       \n",
              "3  499997    499997,2              \n",
              "4  499996    499996,4              \n",
              "5  499995    499995,2              \n",
              "6  499994    184208-499994,4       \n",
              "7  499993    499993,4              \n",
              "8  499992    499992,2              \n",
              "9  499991    499991,0              \n",
              "10 499990    204097-499990,2       \n",
              "11 499989    388551-448689-499989,4\n",
              "12      9    9-13-343161,1         \n",
              "13      8    8-183160,5            \n",
              "14      7    7,1                   \n",
              "15      6    6-38-32871-142067,10  \n",
              "16      5    5-50,4                \n",
              "17      4    4,2                   \n",
              "18      3    3,0                   \n",
              "19      2    2-348955,0            \n",
              "20      1    1-2458-476346,5       \n",
              "21      0    0,1                   "
            ],
            "text/latex": "A tibble: 21 × 2\n\\begin{tabular}{ll}\n ticket\\_id & ticket\\_trace/contact\\\\\n <dbl> & <chr>\\\\\n\\hline\n\t 499999 & 499999,0              \\\\\n\t 499998 & 121111-499998,5       \\\\\n\t 499997 & 499997,2              \\\\\n\t 499996 & 499996,4              \\\\\n\t 499995 & 499995,2              \\\\\n\t 499994 & 184208-499994,4       \\\\\n\t 499993 & 499993,4              \\\\\n\t 499992 & 499992,2              \\\\\n\t 499991 & 499991,0              \\\\\n\t 499990 & 204097-499990,2       \\\\\n\t 499989 & 388551-448689-499989,4\\\\\n\t      9 & 9-13-343161,1         \\\\\n\t      8 & 8-183160,5            \\\\\n\t      7 & 7,1                   \\\\\n\t      6 & 6-38-32871-142067,10  \\\\\n\t      5 & 5-50,4                \\\\\n\t      4 & 4,2                   \\\\\n\t      3 & 3,0                   \\\\\n\t      2 & 2-348955,0            \\\\\n\t      1 & 1-2458-476346,5       \\\\\n\t      0 & 0,1                   \\\\\n\\end{tabular}\n",
            "text/markdown": "\nA tibble: 21 × 2\n\n| ticket_id &lt;dbl&gt; | ticket_trace/contact &lt;chr&gt; |\n|---|---|\n| 499999 | 499999,0               |\n| 499998 | 121111-499998,5        |\n| 499997 | 499997,2               |\n| 499996 | 499996,4               |\n| 499995 | 499995,2               |\n| 499994 | 184208-499994,4        |\n| 499993 | 499993,4               |\n| 499992 | 499992,2               |\n| 499991 | 499991,0               |\n| 499990 | 204097-499990,2        |\n| 499989 | 388551-448689-499989,4 |\n|      9 | 9-13-343161,1          |\n|      8 | 8-183160,5             |\n|      7 | 7,1                    |\n|      6 | 6-38-32871-142067,10   |\n|      5 | 5-50,4                 |\n|      4 | 4,2                    |\n|      3 | 3,0                    |\n|      2 | 2-348955,0             |\n|      1 | 1-2458-476346,5        |\n|      0 | 0,1                    |\n\n",
            "text/html": [
              "<table class=\"dataframe\">\n",
              "<caption>A tibble: 21 × 2</caption>\n",
              "<thead>\n",
              "\t<tr><th scope=col>ticket_id</th><th scope=col>ticket_trace/contact</th></tr>\n",
              "\t<tr><th scope=col>&lt;dbl&gt;</th><th scope=col>&lt;chr&gt;</th></tr>\n",
              "</thead>\n",
              "<tbody>\n",
              "\t<tr><td>499999</td><td>499999,0              </td></tr>\n",
              "\t<tr><td>499998</td><td>121111-499998,5       </td></tr>\n",
              "\t<tr><td>499997</td><td>499997,2              </td></tr>\n",
              "\t<tr><td>499996</td><td>499996,4              </td></tr>\n",
              "\t<tr><td>499995</td><td>499995,2              </td></tr>\n",
              "\t<tr><td>499994</td><td>184208-499994,4       </td></tr>\n",
              "\t<tr><td>499993</td><td>499993,4              </td></tr>\n",
              "\t<tr><td>499992</td><td>499992,2              </td></tr>\n",
              "\t<tr><td>499991</td><td>499991,0              </td></tr>\n",
              "\t<tr><td>499990</td><td>204097-499990,2       </td></tr>\n",
              "\t<tr><td>499989</td><td>388551-448689-499989,4</td></tr>\n",
              "\t<tr><td>     9</td><td>9-13-343161,1         </td></tr>\n",
              "\t<tr><td>     8</td><td>8-183160,5            </td></tr>\n",
              "\t<tr><td>     7</td><td>7,1                   </td></tr>\n",
              "\t<tr><td>     6</td><td>6-38-32871-142067,10  </td></tr>\n",
              "\t<tr><td>     5</td><td>5-50,4                </td></tr>\n",
              "\t<tr><td>     4</td><td>4,2                   </td></tr>\n",
              "\t<tr><td>     3</td><td>3,0                   </td></tr>\n",
              "\t<tr><td>     2</td><td>2-348955,0            </td></tr>\n",
              "\t<tr><td>     1</td><td>1-2458-476346,5       </td></tr>\n",
              "\t<tr><td>     0</td><td>0,1                   </td></tr>\n",
              "</tbody>\n",
              "</table>\n"
            ]
          },
          "metadata": {
            "tags": []
          }
        }
      ]
    }
  ]
}
